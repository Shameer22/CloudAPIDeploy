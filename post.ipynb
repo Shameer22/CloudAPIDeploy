{
 "cells": [
  {
   "cell_type": "code",
   "execution_count": 1,
   "metadata": {},
   "outputs": [
    {
     "ename": "ModuleNotFoundError",
     "evalue": "No module named 'requests'",
     "output_type": "error",
     "traceback": [
      "\u001b[0;31m---------------------------------------------------------------------------\u001b[0m",
      "\u001b[0;31mModuleNotFoundError\u001b[0m                       Traceback (most recent call last)",
      "\u001b[1;32mUntitled-3.ipynb Cell 1'\u001b[0m in \u001b[0;36m<cell line: 1>\u001b[0;34m()\u001b[0m\n\u001b[0;32m----> <a href='vscode-notebook-cell:Untitled-3.ipynb?jupyter-notebook#ch0000000untitled?line=0'>1</a>\u001b[0m \u001b[39mimport\u001b[39;00m \u001b[39mrequests\u001b[39;00m\u001b[39m,\u001b[39m \u001b[39mjson\u001b[39;00m\u001b[39m,\u001b[39m \u001b[39mtime\u001b[39;00m\u001b[39m,\u001b[39m \u001b[39mdatetime\u001b[39;00m\n\u001b[1;32m      <a href='vscode-notebook-cell:Untitled-3.ipynb?jupyter-notebook#ch0000000untitled?line=2'>3</a>\u001b[0m i \u001b[39m=\u001b[39m \u001b[39m0\u001b[39m\n\u001b[1;32m      <a href='vscode-notebook-cell:Untitled-3.ipynb?jupyter-notebook#ch0000000untitled?line=3'>4</a>\u001b[0m kind \u001b[39m=\u001b[39m \u001b[39m'\u001b[39m\u001b[39mlocal\u001b[39m\u001b[39m'\u001b[39m\n",
      "\u001b[0;31mModuleNotFoundError\u001b[0m: No module named 'requests'"
     ]
    }
   ],
   "source": [
    "import requests, json, time, datetime\n",
    "\n",
    "i = 0\n",
    "kind = 'local'\n",
    "while True:\n",
    "    ans = input('This is a local test? [Y/n] ')\n",
    "    print()\n",
    "    if ans in ('y', 'Y', ''):\n",
    "        url = 'http://localhost:8080/'\n",
    "        print('Application address (http://example:8080/):', url)\n",
    "        break\n",
    "    elif ans in ('n', 'N'):\n",
    "        url = ''\n",
    "        kind = 'cloud'\n",
    "        while url == '':\n",
    "            url = input('Put the application address (https://appml.run.app/): ')\n",
    "        if url[-1] != '/':\n",
    "            url = url + '/'\n",
    "        print('Application URL:', url)\n",
    "        break\n",
    "\n",
    "with open('example.json', 'rb') as f:\n",
    "    data = json.load(f)\n",
    "\n",
    "print('\\nData:', data)\n",
    "print()\n",
    "\n",
    "i = 0\n",
    "t = datetime.timedelta(0)\n",
    "if kind == 'local':\n",
    "    mv = 50\n",
    "else:\n",
    "    mv = 1\n",
    "while True:\n",
    "    i += 1\n",
    "    r = requests.post(url+'predict', json=data)\n",
    "    t += r.elapsed\n",
    "    if i%mv==0:\n",
    "        print(i, t/mv, json.loads(r.text), end='\\r')\n",
    "        t = datetime.timedelta(0)"
   ]
  }
 ],
 "metadata": {
  "kernelspec": {
   "display_name": "Python 3.8.9 64-bit",
   "language": "python",
   "name": "python3"
  },
  "language_info": {
   "codemirror_mode": {
    "name": "ipython",
    "version": 3
   },
   "file_extension": ".py",
   "mimetype": "text/x-python",
   "name": "python",
   "nbconvert_exporter": "python",
   "pygments_lexer": "ipython3",
   "version": "3.8.9"
  },
  "orig_nbformat": 4,
  "vscode": {
   "interpreter": {
    "hash": "31f2aee4e71d21fbe5cf8b01ff0e069b9275f58929596ceb00d14d90e3e16cd6"
   }
  }
 },
 "nbformat": 4,
 "nbformat_minor": 2
}
